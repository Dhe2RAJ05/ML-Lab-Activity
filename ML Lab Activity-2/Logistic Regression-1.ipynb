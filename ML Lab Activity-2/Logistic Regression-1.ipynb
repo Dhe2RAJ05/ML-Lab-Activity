{
 "cells": [
  {
   "cell_type": "code",
   "execution_count": 2,
   "id": "6f759f73-27a7-4e50-995a-1516d2fcb527",
   "metadata": {},
   "outputs": [],
   "source": [
    "import pandas as pd\n",
    "from sklearn.model_selection import train_test_split \n",
    "from sklearn.linear_model import LogisticRegression \n",
    "from sklearn import metrics\n",
    "import seaborn as sn"
   ]
  },
  {
   "cell_type": "code",
   "execution_count": 3,
   "id": "958b69f2-8067-43a9-90fa-2064a9014be0",
   "metadata": {},
   "outputs": [
    {
     "data": {
      "text/html": [
       "<div>\n",
       "<style scoped>\n",
       "    .dataframe tbody tr th:only-of-type {\n",
       "        vertical-align: middle;\n",
       "    }\n",
       "\n",
       "    .dataframe tbody tr th {\n",
       "        vertical-align: top;\n",
       "    }\n",
       "\n",
       "    .dataframe thead th {\n",
       "        text-align: right;\n",
       "    }\n",
       "</style>\n",
       "<table border=\"1\" class=\"dataframe\">\n",
       "  <thead>\n",
       "    <tr style=\"text-align: right;\">\n",
       "      <th></th>\n",
       "      <th>admit</th>\n",
       "      <th>gre</th>\n",
       "      <th>gpa</th>\n",
       "      <th>rank</th>\n",
       "    </tr>\n",
       "  </thead>\n",
       "  <tbody>\n",
       "    <tr>\n",
       "      <th>0</th>\n",
       "      <td>0.0</td>\n",
       "      <td>380.0</td>\n",
       "      <td>3.61</td>\n",
       "      <td>3.0</td>\n",
       "    </tr>\n",
       "    <tr>\n",
       "      <th>1</th>\n",
       "      <td>1.0</td>\n",
       "      <td>660.0</td>\n",
       "      <td>3.67</td>\n",
       "      <td>3.0</td>\n",
       "    </tr>\n",
       "    <tr>\n",
       "      <th>2</th>\n",
       "      <td>1.0</td>\n",
       "      <td>800.0</td>\n",
       "      <td>4.00</td>\n",
       "      <td>1.0</td>\n",
       "    </tr>\n",
       "    <tr>\n",
       "      <th>3</th>\n",
       "      <td>1.0</td>\n",
       "      <td>640.0</td>\n",
       "      <td>3.19</td>\n",
       "      <td>4.0</td>\n",
       "    </tr>\n",
       "    <tr>\n",
       "      <th>4</th>\n",
       "      <td>0.0</td>\n",
       "      <td>520.0</td>\n",
       "      <td>2.93</td>\n",
       "      <td>4.0</td>\n",
       "    </tr>\n",
       "  </tbody>\n",
       "</table>\n",
       "</div>"
      ],
      "text/plain": [
       "   admit    gre   gpa  rank\n",
       "0    0.0  380.0  3.61   3.0\n",
       "1    1.0  660.0  3.67   3.0\n",
       "2    1.0  800.0  4.00   1.0\n",
       "3    1.0  640.0  3.19   4.0\n",
       "4    0.0  520.0  2.93   4.0"
      ]
     },
     "execution_count": 3,
     "metadata": {},
     "output_type": "execute_result"
    }
   ],
   "source": [
    "df=pd.read_csv(r\"binary.csv\")\n",
    "df.head()"
   ]
  },
  {
   "cell_type": "code",
   "execution_count": 5,
   "id": "c93b2a01-10e8-457c-aed9-39206d48cdae",
   "metadata": {},
   "outputs": [
    {
     "data": {
      "text/plain": [
       "(400, 4)"
      ]
     },
     "execution_count": 5,
     "metadata": {},
     "output_type": "execute_result"
    }
   ],
   "source": [
    "df.shape"
   ]
  },
  {
   "cell_type": "code",
   "execution_count": null,
   "id": "90b58887-7e67-48fd-9454-8cb56f0f3f92",
   "metadata": {},
   "outputs": [],
   "source": [
    "df.isnull().sum()"
   ]
  },
  {
   "cell_type": "code",
   "execution_count": 7,
   "id": "2fbf6dbb-d951-458e-ae7a-4a915676463b",
   "metadata": {},
   "outputs": [],
   "source": [
    "x=df[[\"gre\",\"gpa\",\"rank\"]]\n",
    "y=df[\"admit\"]"
   ]
  },
  {
   "cell_type": "code",
   "execution_count": 15,
   "id": "fd5d9b86-df3d-453f-8719-24d2d0128861",
   "metadata": {},
   "outputs": [
    {
     "data": {
      "text/plain": [
       "(320, 3)"
      ]
     },
     "metadata": {},
     "output_type": "display_data"
    },
    {
     "data": {
      "text/plain": [
       "(80, 3)"
      ]
     },
     "metadata": {},
     "output_type": "display_data"
    },
    {
     "data": {
      "text/plain": [
       "(320,)"
      ]
     },
     "metadata": {},
     "output_type": "display_data"
    },
    {
     "data": {
      "text/plain": [
       "(80,)"
      ]
     },
     "metadata": {},
     "output_type": "display_data"
    }
   ],
   "source": [
    "x_train,x_test,y_train,y_test=train_test_split(\n",
    "    x,y,\n",
    "    test_size=0.2,random_state=42)\n",
    "display(x_train.shape,x_test.shape,y_train.shape,y_test.shape)"
   ]
  },
  {
   "cell_type": "code",
   "execution_count": 40,
   "id": "30084dfe-888e-4cd6-be75-9c6efcdb359a",
   "metadata": {},
   "outputs": [],
   "source": [
    "model=LogisticRegression(solver='liblinear',max_iter=1000)"
   ]
  },
  {
   "cell_type": "code",
   "execution_count": 41,
   "id": "c2c26169-88d2-4142-8861-fd374f22262e",
   "metadata": {},
   "outputs": [],
   "source": [
    "model.fit(x_train,y_train)\n",
    "y_pred=model.predict(x_test)"
   ]
  },
  {
   "cell_type": "code",
   "execution_count": 42,
   "id": "b8ed2eda-beeb-4476-b2e2-1d7aac7fc24e",
   "metadata": {},
   "outputs": [
    {
     "name": "stdout",
     "output_type": "stream",
     "text": [
      "Confusion Matrix:  [[52  1]\n",
      " [24  3]]\n",
      "Accuracy Score:  0.6875\n",
      "ACcuracy in %:  68.75 %\n"
     ]
    }
   ],
   "source": [
    "conf_mat=metrics.confusion_matrix(y_test,y_pred)\n",
    "print(\"Confusion Matrix: \",conf_mat)\n",
    "Accuracy_Score=metrics.accuracy_score(y_test,y_pred)\n",
    "print(\"Accuracy Score: \",Accuracy_Score)\n",
    "print(\"ACcuracy in %: \", Accuracy_Score*100, \"%\")"
   ]
  },
  {
   "cell_type": "code",
   "execution_count": 43,
   "id": "c1fed817-d9be-414a-9db2-8e4c0f32e5be",
   "metadata": {},
   "outputs": [
    {
     "data": {
      "text/plain": [
       "<Axes: xlabel='Predicted', ylabel='Actual'>"
      ]
     },
     "execution_count": 43,
     "metadata": {},
     "output_type": "execute_result"
    },
    {
     "data": {
      "image/png": "[encoded data removed]",
      "text/plain": [
       "<Figure size 640x480 with 2 Axes>"
      ]
     },
     "metadata": {},
     "output_type": "display_data"
    }
   ],
   "source": [
    "conf_mat=pd.crosstab(y_test,y_pred,rownames=[\"Actual\"],colnames=[\"Predicted\"])\n",
    "sn.heatmap(conf_mat,annot=True)"
   ]
  },
  {
   "cell_type": "code",
   "execution_count": null,
   "id": "2708ffa4-5b7c-4b9d-a8cb-bd2962ed8804",
   "metadata": {},
   "outputs": [],
   "source": []
  }
 ],
 "metadata": {
  "kernelspec": {
   "display_name": "Python 3 (ipykernel)",
   "language": "python",
   "name": "python3"
  },
  "language_info": {
   "codemirror_mode": {
    "name": "ipython",
    "version": 3
   },
   "file_extension": ".py",
   "mimetype": "text/x-python",
   "name": "python",
   "nbconvert_exporter": "python",
   "pygments_lexer": "ipython3",
   "version": "3.12.10"
  }
 },
 "nbformat": 4,
 "nbformat_minor": 5
}
